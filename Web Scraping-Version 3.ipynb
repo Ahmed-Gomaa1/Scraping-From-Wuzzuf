{
 "cells": [
  {
   "cell_type": "code",
   "execution_count": 1,
   "metadata": {},
   "outputs": [],
   "source": [
    "from bs4 import BeautifulSoup\n",
    "import requests\n",
    "import pandas as pd\n",
    "import warnings\n",
    "warnings.filterwarnings(\"ignore\")"
   ]
  },
  {
   "cell_type": "code",
   "execution_count": 2,
   "metadata": {},
   "outputs": [],
   "source": [
    "e='.css-n2jc4m{display:-webkit-inline-box;display:-webkit-inline-flex;display:-ms-inline-flexbox;display:inline-flex;-webkit-align-items:center;-webkit-box-align:center;-ms-flex-align:center;align-items:center;-webkit-text-decoration:none;text-decoration:none;color:inherit;margin-bottom:4px;}.css-adtuo7{cursor:pointer;padding:0 4px;border-radius:4px;}.css-1ve4b75{font-size:12px;font-weight:600;display:-webkit-inline-box;display:-webkit-inline-flex;display:-ms-inline-flexbox;display:inline-flex;-webkit-align-items:center;-webkit-box-align:center;-ms-flex-align:center;align-items:center;min-height:20px;margin-right:4px;border-radius:2px;max-width:196px;white-space:nowrap;overflow:hidden;cursor:default;text-overflow:ellipsis;padding:2px 4px;background-color:#EBEDF0;color:#001433;cursor:pointer;padding:0 4px;border-radius:4px;}'"
   ]
  },
  {
   "cell_type": "code",
   "execution_count": 26,
   "metadata": {},
   "outputs": [
    {
     "name": "stdout",
     "output_type": "stream",
     "text": [
      "Page: 10, ads: 15\n",
      "Page: 20, ads: 165\n",
      "Page: 30, ads: 315\n",
      "Page: 40, ads: 465\n",
      "Page: 50, ads: 591\n",
      "get out\n"
     ]
    }
   ],
   "source": [
    "data=input().split(\" \")\n",
    "P_url=f'https://wuzzuf.net/search/jobs/?a=navbl%7Cspbl&q={data[0]}%20{data[1]}%20%20jobs&start=0'\n",
    "\n",
    "page = 0\n",
    "job_titles=[]\n",
    "company_names=[]\n",
    "location_names=[]\n",
    "Job_posting_time=[]\n",
    "Job_type=[]\n",
    "Level_Of_Jobs=[]\n",
    "Experience_Years=[]\n",
    "Urls=[]\n",
    "    \n",
    "while True:\n",
    "    \n",
    "    page_url = f'{P_url[:-1]}{page}'\n",
    "    result = requests.get(page_url)\n",
    "    src= result.content\n",
    "    soup = BeautifulSoup(src,\"lxml\")\n",
    "    \n",
    "    ad_number = int(soup.find('strong').text)\n",
    "\n",
    "    job_title = soup.find_all(\"h2\",{\"class\":\"css-m604qf\"})\n",
    "    company_name = soup.find_all(\"a\",{\"class\":\"css-17s97q8\"})\n",
    "    location_name= soup.find_all(\"span\",{\"class\":\"css-5wys0k\"})\n",
    "    Job_posting_times = soup.find_all('div' ,{\"class\":[\"css-4c4ojb\",\"css-do6t5g\"]})\n",
    "    Job_types= soup.find_all('div',attrs={'class':'css-1lh32fc'})\n",
    "    Level_Of_Job=soup.find_all('div' , attrs={'class':'css-y4udm8'})\n",
    "    Experience_Year=soup.find_all('div' , attrs={'class':'css-y4udm8'})\n",
    "    Url=soup.find_all('h2' , attrs={'class':'css-m604qf'})\n",
    "    \n",
    "    page_len = len(company_name)\n",
    "    \n",
    "    try:\n",
    "        for i in range(page_len):\n",
    "            job_titles.append(job_title[i].text.replace('.css-o171kl{-webkit-text-decoration:none;text-decoration:none;color:inherit;}',''))\n",
    "            company_names.append(company_name[i].text.replace(' -',''))\n",
    "            location_names.append(location_name[i].text.replace(', Egypt',''))\n",
    "            Job_posting_time.append(Job_posting_times[i].text)\n",
    "            Job_type.append(Job_types[i].text.replace(e,''))\n",
    "            Level_Of_Jobs.append(Level_Of_Job[i].find('a' ,  class_= \"css-o171kl\").text)\n",
    "            Experience_Years.append(Experience_Year[i].find('span' ,  class_= False).text)\n",
    "            Urls.append(Url[i].find('a')['href'])\n",
    "    except:\n",
    "        Experience_Years.append(\"0\")\n",
    "        Urls.append(\"0\")\n",
    "        \n",
    "    page += 10\n",
    "    reached_ad = int(soup.find('li', class_='css-8neukt').text.split()[3])\n",
    "    print(f'Page: {page}, ads: {reached_ad}')\n",
    "    \n",
    "    if reached_ad >= ad_number:\n",
    "        print('get out')\n",
    "        break\n"
   ]
  },
  {
   "cell_type": "code",
   "execution_count": 27,
   "metadata": {},
   "outputs": [
    {
     "name": "stdout",
     "output_type": "stream",
     "text": [
      "Mohandessin, Giza \n",
      "Maadi, Cairo \n",
      "Shubra, Cairo \n",
      "Cairo \n",
      "Kuwait City, Kuwait \n",
      "Smart Village, Giza \n",
      "Cairo \n",
      "10th of Ramadan City, Cairo \n",
      "Obour City, Cairo \n",
      "Maadi, Cairo \n",
      "New Cairo, Cairo \n",
      "Riyadh, Saudi Arabia \n",
      "Sheraton, Cairo \n",
      "6th of October, Giza \n",
      "Maadi, Cairo \n",
      "Kuwait City, Kuwait \n",
      "New Cairo, Cairo \n",
      "New Cairo, Cairo \n",
      "New Cairo, Cairo \n",
      "New Cairo, Cairo \n",
      "Nasr City, Cairo \n",
      "6th of October, Giza \n",
      "6th of October, Giza \n",
      "Cairo \n",
      "Heliopolis, Cairo \n",
      "6th of October, Giza \n",
      "Maadi, Cairo \n",
      "6th of October, Giza \n",
      "Smart Village, Giza \n",
      "6th of October, Giza \n",
      "Maadi, Cairo \n",
      "Obour City, Cairo \n",
      "Maadi, Cairo \n",
      "Cairo \n",
      "Maadi, Cairo \n",
      "Heliopolis, Cairo \n",
      "Heliopolis, Cairo \n",
      "New Cairo, Cairo \n",
      "Mokattam, Cairo \n",
      "Downtown, Cairo \n",
      "Sheraton, Cairo \n",
      "Alexandria \n",
      "Nasr City, Cairo \n",
      "Nasr City, Cairo \n",
      "Mohandessin, Giza \n",
      "Maadi, Cairo \n",
      "Dokki, Giza \n",
      "Sheraton, Cairo \n",
      "Maadi, Cairo \n",
      "Nasr City, Cairo \n",
      "Maadi, Cairo \n",
      "Maadi, Cairo \n",
      "Heliopolis, Cairo \n",
      "New Cairo, Cairo \n",
      "Nasr City, Cairo \n",
      "Cairo \n",
      "Maadi, Cairo \n",
      "New Cairo, Cairo \n",
      "Mohandessin, Giza \n",
      "Nasr City, Cairo \n"
     ]
    }
   ],
   "source": [
    "City_Name=[]\n",
    "for i in range(len(location_names)):\n",
    "        Loc=location_names[i].split(',')\n",
    "        if len(Loc)>1:\n",
    "                City_Name.append(Loc[1])\n",
    "        else:\n",
    "             City_Name.append('-')\n",
    "\n",
    "        location_names[i]=Loc[0]\n",
    "        "
   ]
  },
  {
   "cell_type": "code",
   "execution_count": null,
   "metadata": {},
   "outputs": [
    {
     "ename": "",
     "evalue": "",
     "output_type": "error",
     "traceback": [
      "\u001b[1;31mRunning cells with 'Python 3.10.7 64-bit (microsoft store)' requires ipykernel package.\n",
      "\u001b[1;31mRun the following command to install 'ipykernel' into the Python environment. \n",
      "\u001b[1;31mCommand: 'c:/Users/3hmed/AppData/Local/Microsoft/WindowsApps/python3.10.exe -m pip install ipykernel -U --force-reinstall'"
     ]
    }
   ],
   "source": [
    "#manupliate Values\n",
    "for i in range (len(Urls)):\n",
    "    Urls[i]=\"https://wuzzuf.net\"+Urls[i]\n",
    "for i in range (len(Urls)):\n",
    "    Urls[i]=Urls[i].replace('?o=1&l=sp&t=sj&a=Machine Learning  jobs|search-v3|hpb|spbl','')\n",
    "for i in range(len(Experience_Years)):\n",
    "    Experience_Years[i]=Experience_Years[i].replace('· ','')  "
   ]
  },
  {
   "cell_type": "code",
   "execution_count": null,
   "metadata": {},
   "outputs": [
    {
     "ename": "",
     "evalue": "",
     "output_type": "error",
     "traceback": [
      "\u001b[1;31mRunning cells with 'Python 3.10.7 64-bit (microsoft store)' requires ipykernel package.\n",
      "\u001b[1;31mRun the following command to install 'ipykernel' into the Python environment. \n",
      "\u001b[1;31mCommand: 'c:/Users/3hmed/AppData/Local/Microsoft/WindowsApps/python3.10.exe -m pip install ipykernel -U --force-reinstall'"
     ]
    }
   ],
   "source": [
    "Data_File = pd.DataFrame({'Title':job_titles,'Company': company_names , 'Location':location_names , 'Job type' : Job_type , 'posting time':Job_posting_time,'Level_Of_Job':Level_Of_Jobs,'Experience_Years':Experience_Years,\"Job_Link\":Urls })\n",
    "Data_File"
   ]
  },
  {
   "cell_type": "code",
   "execution_count": null,
   "metadata": {},
   "outputs": [
    {
     "ename": "",
     "evalue": "",
     "output_type": "error",
     "traceback": [
      "\u001b[1;31mRunning cells with 'Python 3.10.7 64-bit (microsoft store)' requires ipykernel package.\n",
      "\u001b[1;31mRun the following command to install 'ipykernel' into the Python environment. \n",
      "\u001b[1;31mCommand: 'c:/Users/3hmed/AppData/Local/Microsoft/WindowsApps/python3.10.exe -m pip install ipykernel -U --force-reinstall'"
     ]
    }
   ],
   "source": [
    "Data_File.to_csv(f'Wuzzuf_{data[0]}_{data[1]}Jobs.csv')"
   ]
  },
  {
   "cell_type": "code",
   "execution_count": null,
   "metadata": {},
   "outputs": [
    {
     "ename": "",
     "evalue": "",
     "output_type": "error",
     "traceback": [
      "\u001b[1;31mRunning cells with 'Python 3.10.7 64-bit (microsoft store)' requires ipykernel package.\n",
      "\u001b[1;31mRun the following command to install 'ipykernel' into the Python environment. \n",
      "\u001b[1;31mCommand: 'c:/Users/3hmed/AppData/Local/Microsoft/WindowsApps/python3.10.exe -m pip install ipykernel -U --force-reinstall'"
     ]
    }
   ],
   "source": []
  },
  {
   "cell_type": "code",
   "execution_count": null,
   "metadata": {},
   "outputs": [
    {
     "ename": "",
     "evalue": "",
     "output_type": "error",
     "traceback": [
      "\u001b[1;31mRunning cells with 'Python 3.10.7 64-bit (microsoft store)' requires ipykernel package.\n",
      "\u001b[1;31mRun the following command to install 'ipykernel' into the Python environment. \n",
      "\u001b[1;31mCommand: 'c:/Users/3hmed/AppData/Local/Microsoft/WindowsApps/python3.10.exe -m pip install ipykernel -U --force-reinstall'"
     ]
    }
   ],
   "source": []
  }
 ],
 "metadata": {
  "kernelspec": {
   "display_name": "Python 3.7.3 64-bit ('Anaconda3')",
   "language": "python",
   "name": "python3"
  },
  "language_info": {
   "codemirror_mode": {
    "name": "ipython",
    "version": 3
   },
   "file_extension": ".py",
   "mimetype": "text/x-python",
   "name": "python",
   "nbconvert_exporter": "python",
   "pygments_lexer": "ipython3",
   "version": "3.7.3"
  },
  "vscode": {
   "interpreter": {
    "hash": "612077a572c29945413eb29d6fbf3bf45d164167e8dc8021da1dd2571de31048"
   }
  }
 },
 "nbformat": 4,
 "nbformat_minor": 2
}
